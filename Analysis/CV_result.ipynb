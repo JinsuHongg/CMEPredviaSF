{
 "cells": [
  {
   "cell_type": "code",
   "execution_count": 1,
   "id": "022fe1c6-9dd9-4d9d-9d6d-8e7b5421a228",
   "metadata": {
    "tags": []
   },
   "outputs": [],
   "source": [
    "import glob\n",
    "import pickle\n",
    "import numpy as np\n",
    "import pandas as pd"
   ]
  },
  {
   "cell_type": "code",
   "execution_count": 2,
   "id": "796bf922-0f8d-4c4a-bb3e-2b38780a7f7d",
   "metadata": {
    "tags": []
   },
   "outputs": [],
   "source": [
    "files = glob.glob('../Train/*.csv')"
   ]
  },
  {
   "cell_type": "code",
   "execution_count": 3,
   "id": "091757ce-5b57-49cb-96b1-050e859eb5b1",
   "metadata": {
    "tags": []
   },
   "outputs": [
    {
     "data": {
      "text/plain": [
       "['../Train/TSF_gridsearch_result.csv',\n",
       " '../Train/Shapelet_gridsearch_result.csv',\n",
       " '../Train/LogisticReg_gridsearch_result_liblinear.csv',\n",
       " '../Train/BOSSVS_gridsearch_result.csv',\n",
       " '../Train/SAXVSM_gridsearch_result.csv']"
      ]
     },
     "execution_count": 3,
     "metadata": {},
     "output_type": "execute_result"
    }
   ],
   "source": [
    "files"
   ]
  },
  {
   "cell_type": "code",
   "execution_count": 4,
   "id": "1cca342a-a83c-41df-a4f6-9a1cd193c04a",
   "metadata": {
    "tags": []
   },
   "outputs": [],
   "source": [
    "cols = ['mean_test_score', 'std_test_score', 'rank_test_score', 'mean_train_score', 'std_train_score']\n",
    "\n",
    "tot_list = []\n",
    "for file in files:\n",
    "    score_list = []\n",
    "    model_name = file.split('_')[0].split('/')[-1]\n",
    "    df = pd.read_csv(file, usecols = cols)\n",
    "    df.sort_values(by = ['rank_test_score'], inplace = True, ignore_index = True)\n",
    "    score_list.append(model_name)\n",
    "    score_list.extend(df.iloc[0, :].to_list())\n",
    "    tot_list.append(score_list)"
   ]
  },
  {
   "cell_type": "code",
   "execution_count": 5,
   "id": "b1232eeb-508b-4724-b86d-ae06f6079487",
   "metadata": {
    "tags": []
   },
   "outputs": [
    {
     "data": {
      "text/html": [
       "<div>\n",
       "<style scoped>\n",
       "    .dataframe tbody tr th:only-of-type {\n",
       "        vertical-align: middle;\n",
       "    }\n",
       "\n",
       "    .dataframe tbody tr th {\n",
       "        vertical-align: top;\n",
       "    }\n",
       "\n",
       "    .dataframe thead th {\n",
       "        text-align: right;\n",
       "    }\n",
       "</style>\n",
       "<table border=\"1\" class=\"dataframe\">\n",
       "  <thead>\n",
       "    <tr style=\"text-align: right;\">\n",
       "      <th></th>\n",
       "      <th>model</th>\n",
       "      <th>mean_test_score</th>\n",
       "      <th>std_test_score</th>\n",
       "      <th>rank_test_score</th>\n",
       "      <th>mean_train_score</th>\n",
       "      <th>std_train_score</th>\n",
       "    </tr>\n",
       "  </thead>\n",
       "  <tbody>\n",
       "    <tr>\n",
       "      <th>0</th>\n",
       "      <td>TSF</td>\n",
       "      <td>0.578882</td>\n",
       "      <td>0.038768</td>\n",
       "      <td>1.0</td>\n",
       "      <td>0.619051</td>\n",
       "      <td>0.008068</td>\n",
       "    </tr>\n",
       "    <tr>\n",
       "      <th>1</th>\n",
       "      <td>Shapelet</td>\n",
       "      <td>0.369577</td>\n",
       "      <td>0.000338</td>\n",
       "      <td>1.0</td>\n",
       "      <td>0.369577</td>\n",
       "      <td>0.000084</td>\n",
       "    </tr>\n",
       "    <tr>\n",
       "      <th>2</th>\n",
       "      <td>LogisticReg</td>\n",
       "      <td>0.606472</td>\n",
       "      <td>0.043130</td>\n",
       "      <td>1.0</td>\n",
       "      <td>0.609323</td>\n",
       "      <td>0.011071</td>\n",
       "    </tr>\n",
       "    <tr>\n",
       "      <th>3</th>\n",
       "      <td>BOSSVS</td>\n",
       "      <td>0.586582</td>\n",
       "      <td>0.023781</td>\n",
       "      <td>1.0</td>\n",
       "      <td>0.589953</td>\n",
       "      <td>0.006660</td>\n",
       "    </tr>\n",
       "    <tr>\n",
       "      <th>4</th>\n",
       "      <td>SAXVSM</td>\n",
       "      <td>0.561944</td>\n",
       "      <td>0.005519</td>\n",
       "      <td>1.0</td>\n",
       "      <td>0.784668</td>\n",
       "      <td>0.008742</td>\n",
       "    </tr>\n",
       "  </tbody>\n",
       "</table>\n",
       "</div>"
      ],
      "text/plain": [
       "         model  mean_test_score  std_test_score  rank_test_score  \\\n",
       "0          TSF         0.578882        0.038768              1.0   \n",
       "1     Shapelet         0.369577        0.000338              1.0   \n",
       "2  LogisticReg         0.606472        0.043130              1.0   \n",
       "3       BOSSVS         0.586582        0.023781              1.0   \n",
       "4       SAXVSM         0.561944        0.005519              1.0   \n",
       "\n",
       "   mean_train_score  std_train_score  \n",
       "0          0.619051         0.008068  \n",
       "1          0.369577         0.000084  \n",
       "2          0.609323         0.011071  \n",
       "3          0.589953         0.006660  \n",
       "4          0.784668         0.008742  "
      ]
     },
     "execution_count": 5,
     "metadata": {},
     "output_type": "execute_result"
    }
   ],
   "source": [
    "# f1 score!\n",
    "pd.DataFrame(tot_list, columns = ['model', 'mean_test_score', 'std_test_score', 'rank_test_score', 'mean_train_score', 'std_train_score'])"
   ]
  },
  {
   "cell_type": "code",
   "execution_count": null,
   "id": "155b7d21-6457-4e57-afa1-f5bf1ac4ec03",
   "metadata": {},
   "outputs": [],
   "source": []
  }
 ],
 "metadata": {
  "kernelspec": {
   "display_name": "CMEPred",
   "language": "python",
   "name": "cmepred"
  },
  "language_info": {
   "codemirror_mode": {
    "name": "ipython",
    "version": 3
   },
   "file_extension": ".py",
   "mimetype": "text/x-python",
   "name": "python",
   "nbconvert_exporter": "python",
   "pygments_lexer": "ipython3",
   "version": "3.11.3"
  }
 },
 "nbformat": 4,
 "nbformat_minor": 5
}
