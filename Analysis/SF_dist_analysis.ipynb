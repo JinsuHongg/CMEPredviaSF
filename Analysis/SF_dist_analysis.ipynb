{
 "cells": [
  {
   "cell_type": "code",
   "execution_count": 1,
   "id": "e0f7d7bc-3de2-4c6f-ac2c-cebffc01ce5c",
   "metadata": {
    "tags": []
   },
   "outputs": [],
   "source": [
    "import numpy as np\n",
    "import pandas as pd\n",
    "import matplotlib.pyplot as plt"
   ]
  },
  {
   "cell_type": "code",
   "execution_count": 2,
   "id": "207b507d-0881-46e0-9b1d-489534a5d3c3",
   "metadata": {
    "tags": []
   },
   "outputs": [],
   "source": [
    "df_xray = pd.read_csv(\"/media/jh/maxone/Research/GSU/Research1_xray_flux/fixed_all_xrs_rxfi_2023.csv\")\n",
    "df_list = pd.read_csv(\"/media/jh/maxone/Research/GSU/Research1_xray_flux/MultiwayIntegration_2010_to_2018_conf_rxfi.csv\")"
   ]
  },
  {
   "cell_type": "code",
   "execution_count": 3,
   "id": "1ed8c2ea-999e-4b47-b4d9-900ef468e9f2",
   "metadata": {
    "tags": []
   },
   "outputs": [],
   "source": [
    "df_list['start_time'] = pd.to_datetime(df_list['start_time'])\n",
    "df_list['peak_time'] = pd.to_datetime(df_list['peak_time'])\n",
    "df_list['end_time'] = pd.to_datetime(df_list['end_time'])"
   ]
  },
  {
   "cell_type": "code",
   "execution_count": 4,
   "id": "f8376778-aa13-4c90-a5aa-b76a8f87ec54",
   "metadata": {
    "tags": []
   },
   "outputs": [],
   "source": [
    "# Preprocessing\n",
    "# if the timestamp is midnight (hour:min:sec, 00:00:00), the time difference is wrong. So we add 1days\n",
    "filter_t = df_list.query('peak_time.dt.hour == 0 and peak_time.dt.minute == 0 and peak_time.dt.second == 0').index\n",
    "df_list.loc[filter_t, 'peak_time'] += pd.Timedelta(days = 1)\n",
    "\n",
    "# calculate the time differences beween event time (1. peak - start, 2. end - peak)\n",
    "df_list = df_list.assign(StEnd = (df_list['end_time'] - df_list['start_time']).dt.total_seconds()/60)\n",
    "\n",
    "# time difference between previous flare and next flare\n",
    "list_td = [0]\n",
    "for i in range(1, len(df_list)):\n",
    "    list_td.append( (df_list.iloc[i, 1] - df_list.iloc[i-1, 3]).total_seconds()/60 )\n",
    "df_list['TdiffFL'] = list_td"
   ]
  },
  {
   "cell_type": "code",
   "execution_count": 5,
   "id": "bd0b0129-9045-4e3a-8bec-2988afdbf758",
   "metadata": {
    "tags": []
   },
   "outputs": [
    {
     "data": {
      "text/html": [
       "<div>\n",
       "<style scoped>\n",
       "    .dataframe tbody tr th:only-of-type {\n",
       "        vertical-align: middle;\n",
       "    }\n",
       "\n",
       "    .dataframe tbody tr th {\n",
       "        vertical-align: top;\n",
       "    }\n",
       "\n",
       "    .dataframe thead th {\n",
       "        text-align: right;\n",
       "    }\n",
       "</style>\n",
       "<table border=\"1\" class=\"dataframe\">\n",
       "  <thead>\n",
       "    <tr style=\"text-align: right;\">\n",
       "      <th></th>\n",
       "      <th>flare_id</th>\n",
       "      <th>start_time</th>\n",
       "      <th>peak_time</th>\n",
       "      <th>end_time</th>\n",
       "      <th>goes_class</th>\n",
       "      <th>noaa_active_region</th>\n",
       "      <th>fl_lon</th>\n",
       "      <th>fl_lat</th>\n",
       "      <th>fl_loc_src</th>\n",
       "      <th>ssw_flare_id</th>\n",
       "      <th>...</th>\n",
       "      <th>Flare_rise_time</th>\n",
       "      <th>Flare_decay_time</th>\n",
       "      <th>Flare_duration</th>\n",
       "      <th>rise_gradient</th>\n",
       "      <th>decay_gradient</th>\n",
       "      <th>avg_fluorescence</th>\n",
       "      <th>avg_rise_fluorescence</th>\n",
       "      <th>avg_decay_fluorescence</th>\n",
       "      <th>StEnd</th>\n",
       "      <th>TdiffFL</th>\n",
       "    </tr>\n",
       "  </thead>\n",
       "  <tbody>\n",
       "    <tr>\n",
       "      <th>0</th>\n",
       "      <td>gid_sdo_1</td>\n",
       "      <td>2010-05-01 01:34:00</td>\n",
       "      <td>2010-05-01 01:39:00</td>\n",
       "      <td>2010-05-01 01:43:00</td>\n",
       "      <td>C5.7</td>\n",
       "      <td>11067.0</td>\n",
       "      <td>-73.000000</td>\n",
       "      <td>23.0</td>\n",
       "      <td>GOES</td>\n",
       "      <td>gev_20100501_0134</td>\n",
       "      <td>...</td>\n",
       "      <td>5</td>\n",
       "      <td>4</td>\n",
       "      <td>9</td>\n",
       "      <td>1.125829e-06</td>\n",
       "      <td>-9.056000e-07</td>\n",
       "      <td>0.000003</td>\n",
       "      <td>0.000003</td>\n",
       "      <td>0.000005</td>\n",
       "      <td>9.0</td>\n",
       "      <td>0.0</td>\n",
       "    </tr>\n",
       "    <tr>\n",
       "      <th>1</th>\n",
       "      <td>gid_sdo_2</td>\n",
       "      <td>2010-05-04 16:15:00</td>\n",
       "      <td>2010-05-04 16:29:00</td>\n",
       "      <td>2010-05-04 16:34:00</td>\n",
       "      <td>C3.6</td>\n",
       "      <td>11069.0</td>\n",
       "      <td>23.000000</td>\n",
       "      <td>41.0</td>\n",
       "      <td>GOES</td>\n",
       "      <td>gev_20100504_1615</td>\n",
       "      <td>...</td>\n",
       "      <td>14</td>\n",
       "      <td>5</td>\n",
       "      <td>19</td>\n",
       "      <td>2.492250e-07</td>\n",
       "      <td>-3.741800e-07</td>\n",
       "      <td>0.000002</td>\n",
       "      <td>0.000001</td>\n",
       "      <td>0.000003</td>\n",
       "      <td>19.0</td>\n",
       "      <td>5192.0</td>\n",
       "    </tr>\n",
       "    <tr>\n",
       "      <th>2</th>\n",
       "      <td>gid_sdo_3</td>\n",
       "      <td>2010-05-05 07:09:00</td>\n",
       "      <td>2010-05-05 07:16:00</td>\n",
       "      <td>2010-05-05 07:20:00</td>\n",
       "      <td>C2.3</td>\n",
       "      <td>11069.0</td>\n",
       "      <td>30.899097</td>\n",
       "      <td>42.0</td>\n",
       "      <td>GOES</td>\n",
       "      <td>gev_20100505_0709</td>\n",
       "      <td>...</td>\n",
       "      <td>7</td>\n",
       "      <td>4</td>\n",
       "      <td>11</td>\n",
       "      <td>3.160856e-07</td>\n",
       "      <td>-3.034250e-07</td>\n",
       "      <td>0.000001</td>\n",
       "      <td>0.000001</td>\n",
       "      <td>0.000002</td>\n",
       "      <td>11.0</td>\n",
       "      <td>875.0</td>\n",
       "    </tr>\n",
       "    <tr>\n",
       "      <th>3</th>\n",
       "      <td>gid_sdo_4</td>\n",
       "      <td>2010-05-05 11:37:00</td>\n",
       "      <td>2010-05-05 11:52:00</td>\n",
       "      <td>2010-05-05 11:58:00</td>\n",
       "      <td>C8.8</td>\n",
       "      <td>11069.0</td>\n",
       "      <td>33.367332</td>\n",
       "      <td>42.0</td>\n",
       "      <td>GOES</td>\n",
       "      <td>gev_20100505_1137</td>\n",
       "      <td>...</td>\n",
       "      <td>15</td>\n",
       "      <td>6</td>\n",
       "      <td>21</td>\n",
       "      <td>5.758880e-07</td>\n",
       "      <td>-7.681000e-07</td>\n",
       "      <td>0.000003</td>\n",
       "      <td>0.000002</td>\n",
       "      <td>0.000007</td>\n",
       "      <td>21.0</td>\n",
       "      <td>257.0</td>\n",
       "    </tr>\n",
       "    <tr>\n",
       "      <th>4</th>\n",
       "      <td>gid_sdo_5</td>\n",
       "      <td>2010-05-05 17:13:00</td>\n",
       "      <td>2010-05-05 17:19:00</td>\n",
       "      <td>2010-05-05 17:22:00</td>\n",
       "      <td>M1.2</td>\n",
       "      <td>11069.0</td>\n",
       "      <td>37.000000</td>\n",
       "      <td>42.0</td>\n",
       "      <td>GOES</td>\n",
       "      <td>gev_20100505_1713</td>\n",
       "      <td>...</td>\n",
       "      <td>6</td>\n",
       "      <td>3</td>\n",
       "      <td>9</td>\n",
       "      <td>1.966452e-06</td>\n",
       "      <td>-1.849167e-06</td>\n",
       "      <td>0.000006</td>\n",
       "      <td>0.000005</td>\n",
       "      <td>0.000013</td>\n",
       "      <td>9.0</td>\n",
       "      <td>315.0</td>\n",
       "    </tr>\n",
       "  </tbody>\n",
       "</table>\n",
       "<p>5 rows × 50 columns</p>\n",
       "</div>"
      ],
      "text/plain": [
       "    flare_id          start_time           peak_time            end_time  \\\n",
       "0  gid_sdo_1 2010-05-01 01:34:00 2010-05-01 01:39:00 2010-05-01 01:43:00   \n",
       "1  gid_sdo_2 2010-05-04 16:15:00 2010-05-04 16:29:00 2010-05-04 16:34:00   \n",
       "2  gid_sdo_3 2010-05-05 07:09:00 2010-05-05 07:16:00 2010-05-05 07:20:00   \n",
       "3  gid_sdo_4 2010-05-05 11:37:00 2010-05-05 11:52:00 2010-05-05 11:58:00   \n",
       "4  gid_sdo_5 2010-05-05 17:13:00 2010-05-05 17:19:00 2010-05-05 17:22:00   \n",
       "\n",
       "  goes_class  noaa_active_region     fl_lon  fl_lat fl_loc_src  \\\n",
       "0       C5.7             11067.0 -73.000000    23.0       GOES   \n",
       "1       C3.6             11069.0  23.000000    41.0       GOES   \n",
       "2       C2.3             11069.0  30.899097    42.0       GOES   \n",
       "3       C8.8             11069.0  33.367332    42.0       GOES   \n",
       "4       M1.2             11069.0  37.000000    42.0       GOES   \n",
       "\n",
       "        ssw_flare_id  ...  Flare_rise_time  Flare_decay_time  Flare_duration  \\\n",
       "0  gev_20100501_0134  ...                5                 4               9   \n",
       "1  gev_20100504_1615  ...               14                 5              19   \n",
       "2  gev_20100505_0709  ...                7                 4              11   \n",
       "3  gev_20100505_1137  ...               15                 6              21   \n",
       "4  gev_20100505_1713  ...                6                 3               9   \n",
       "\n",
       "  rise_gradient decay_gradient  avg_fluorescence  avg_rise_fluorescence  \\\n",
       "0  1.125829e-06  -9.056000e-07          0.000003               0.000003   \n",
       "1  2.492250e-07  -3.741800e-07          0.000002               0.000001   \n",
       "2  3.160856e-07  -3.034250e-07          0.000001               0.000001   \n",
       "3  5.758880e-07  -7.681000e-07          0.000003               0.000002   \n",
       "4  1.966452e-06  -1.849167e-06          0.000006               0.000005   \n",
       "\n",
       "   avg_decay_fluorescence  StEnd  TdiffFL  \n",
       "0                0.000005    9.0      0.0  \n",
       "1                0.000003   19.0   5192.0  \n",
       "2                0.000002   11.0    875.0  \n",
       "3                0.000007   21.0    257.0  \n",
       "4                0.000013    9.0    315.0  \n",
       "\n",
       "[5 rows x 50 columns]"
      ]
     },
     "execution_count": 5,
     "metadata": {},
     "output_type": "execute_result"
    }
   ],
   "source": [
    "df_list.head()"
   ]
  },
  {
   "cell_type": "code",
   "execution_count": 6,
   "id": "f8d93165-4709-44b0-9f72-5419551d3c8c",
   "metadata": {
    "tags": []
   },
   "outputs": [],
   "source": [
    "# df_list.query('StEnd >= 100')"
   ]
  },
  {
   "cell_type": "code",
   "execution_count": 7,
   "id": "e18ed090-27fb-48d8-878c-5ea63f549b99",
   "metadata": {
    "tags": []
   },
   "outputs": [
    {
     "name": "stdout",
     "output_type": "stream",
     "text": [
      "This plot show the time difference between End time - Start time of the flares.\n",
      "Time difference 24.0 (min) is upper 75% quantile!\n"
     ]
    },
    {
     "data": {
      "image/png": "[encoded data removed]",
      "text/plain": [
       "<Figure size 640x480 with 1 Axes>"
      ]
     },
     "metadata": {},
     "output_type": "display_data"
    }
   ],
   "source": [
    "print(\"This plot show the time difference between End time - Start time of the flares.\")\n",
    "print(f\"Time difference {df_list['StEnd'].quantile(0.75)} (min) is upper 75% quantile!\")\n",
    "plt.hist(df_list['StEnd'], log = True)\n",
    "plt.show()"
   ]
  },
  {
   "cell_type": "code",
   "execution_count": 8,
   "id": "c523e50f-168f-421d-b031-41108c3ebdb5",
   "metadata": {
    "tags": []
   },
   "outputs": [
    {
     "name": "stdout",
     "output_type": "stream",
     "text": [
      "This plot show the time difference between End time of previous flare - Start time of the current flare.\n",
      "Time difference 19.0 (min) is lower 10% quantile!\n"
     ]
    },
    {
     "data": {
      "image/png": "[encoded data removed]",
      "text/plain": [
       "<Figure size 640x480 with 1 Axes>"
      ]
     },
     "metadata": {},
     "output_type": "display_data"
    }
   ],
   "source": [
    "print(\"This plot show the time difference between End time of previous flare - Start time of the current flare.\")\n",
    "print(f\"Time difference {df_list['TdiffFL'].quantile(0.10)} (min) is lower 10% quantile!\")\n",
    "plt.hist(df_list['TdiffFL'], log = True)\n",
    "plt.show()"
   ]
  },
  {
   "cell_type": "code",
   "execution_count": 9,
   "id": "51f889a1-8fa6-4247-8529-23f952a0e2d7",
   "metadata": {
    "tags": []
   },
   "outputs": [],
   "source": [
    "# We only take Eruptive Flare into account. \n",
    "df_er = df_list.loc[df_list['cme_vel'].notnull(), :]"
   ]
  },
  {
   "cell_type": "code",
   "execution_count": 10,
   "id": "7d4da57b-3bb1-4fbd-937e-c0cebb5050da",
   "metadata": {
    "tags": []
   },
   "outputs": [
    {
     "data": {
      "text/html": [
       "<div>\n",
       "<style scoped>\n",
       "    .dataframe tbody tr th:only-of-type {\n",
       "        vertical-align: middle;\n",
       "    }\n",
       "\n",
       "    .dataframe tbody tr th {\n",
       "        vertical-align: top;\n",
       "    }\n",
       "\n",
       "    .dataframe thead th {\n",
       "        text-align: right;\n",
       "    }\n",
       "</style>\n",
       "<table border=\"1\" class=\"dataframe\">\n",
       "  <thead>\n",
       "    <tr style=\"text-align: right;\">\n",
       "      <th></th>\n",
       "      <th>Timestamp</th>\n",
       "      <th>B_AVG</th>\n",
       "      <th>B_filtered</th>\n",
       "    </tr>\n",
       "  </thead>\n",
       "  <tbody>\n",
       "    <tr>\n",
       "      <th>6903</th>\n",
       "      <td>2010-01-05 19:03:00</td>\n",
       "      <td>-99999.0</td>\n",
       "      <td>NaN</td>\n",
       "    </tr>\n",
       "    <tr>\n",
       "      <th>8628</th>\n",
       "      <td>2010-01-06 23:48:00</td>\n",
       "      <td>-99999.0</td>\n",
       "      <td>NaN</td>\n",
       "    </tr>\n",
       "    <tr>\n",
       "      <th>8629</th>\n",
       "      <td>2010-01-06 23:49:00</td>\n",
       "      <td>-99999.0</td>\n",
       "      <td>NaN</td>\n",
       "    </tr>\n",
       "    <tr>\n",
       "      <th>8630</th>\n",
       "      <td>2010-01-06 23:50:00</td>\n",
       "      <td>-99999.0</td>\n",
       "      <td>NaN</td>\n",
       "    </tr>\n",
       "    <tr>\n",
       "      <th>8631</th>\n",
       "      <td>2010-01-06 23:51:00</td>\n",
       "      <td>-99999.0</td>\n",
       "      <td>NaN</td>\n",
       "    </tr>\n",
       "    <tr>\n",
       "      <th>...</th>\n",
       "      <td>...</td>\n",
       "      <td>...</td>\n",
       "      <td>...</td>\n",
       "    </tr>\n",
       "    <tr>\n",
       "      <th>4937863</th>\n",
       "      <td>2019-05-23 01:43:00</td>\n",
       "      <td>-99999.0</td>\n",
       "      <td>NaN</td>\n",
       "    </tr>\n",
       "    <tr>\n",
       "      <th>4937864</th>\n",
       "      <td>2019-05-23 01:44:00</td>\n",
       "      <td>-99999.0</td>\n",
       "      <td>NaN</td>\n",
       "    </tr>\n",
       "    <tr>\n",
       "      <th>4937865</th>\n",
       "      <td>2019-05-23 01:45:00</td>\n",
       "      <td>-99999.0</td>\n",
       "      <td>NaN</td>\n",
       "    </tr>\n",
       "    <tr>\n",
       "      <th>4937866</th>\n",
       "      <td>2019-05-23 01:46:00</td>\n",
       "      <td>-99999.0</td>\n",
       "      <td>NaN</td>\n",
       "    </tr>\n",
       "    <tr>\n",
       "      <th>4937867</th>\n",
       "      <td>2019-05-23 01:47:00</td>\n",
       "      <td>-99999.0</td>\n",
       "      <td>NaN</td>\n",
       "    </tr>\n",
       "  </tbody>\n",
       "</table>\n",
       "<p>37453 rows × 3 columns</p>\n",
       "</div>"
      ],
      "text/plain": [
       "                   Timestamp    B_AVG  B_filtered\n",
       "6903     2010-01-05 19:03:00 -99999.0         NaN\n",
       "8628     2010-01-06 23:48:00 -99999.0         NaN\n",
       "8629     2010-01-06 23:49:00 -99999.0         NaN\n",
       "8630     2010-01-06 23:50:00 -99999.0         NaN\n",
       "8631     2010-01-06 23:51:00 -99999.0         NaN\n",
       "...                      ...      ...         ...\n",
       "4937863  2019-05-23 01:43:00 -99999.0         NaN\n",
       "4937864  2019-05-23 01:44:00 -99999.0         NaN\n",
       "4937865  2019-05-23 01:45:00 -99999.0         NaN\n",
       "4937866  2019-05-23 01:46:00 -99999.0         NaN\n",
       "4937867  2019-05-23 01:47:00 -99999.0         NaN\n",
       "\n",
       "[37453 rows x 3 columns]"
      ]
     },
     "execution_count": 10,
     "metadata": {},
     "output_type": "execute_result"
    }
   ],
   "source": [
    "# There are also negative X-ray flux, so these values should be removed.\n",
    "df_xray.loc[df_xray['B_AVG'] < 0, :]"
   ]
  },
  {
   "cell_type": "code",
   "execution_count": 11,
   "id": "a55eb55e-2eb9-4fcb-9fc3-17d68ce5c124",
   "metadata": {
    "tags": []
   },
   "outputs": [
    {
     "data": {
      "text/plain": [
       "label\n",
       "0    1329\n",
       "1     941\n",
       "Name: count, dtype: int64"
      ]
     },
     "execution_count": 11,
     "metadata": {},
     "output_type": "execute_result"
    }
   ],
   "source": [
    "# Check class imbalance, 500 is a current threshold.\n",
    "df_er = df_er.assign(label = np.where(df_er['cme_vel'] >= 500, 1, 0))\n",
    "df_er['label'].value_counts()"
   ]
  },
  {
   "cell_type": "code",
   "execution_count": 14,
   "id": "616327f3-0a95-4583-8a98-e751bd29b3d3",
   "metadata": {
    "scrolled": true,
    "tags": []
   },
   "outputs": [
    {
     "data": {
      "text/html": [
       "<div>\n",
       "<style scoped>\n",
       "    .dataframe tbody tr th:only-of-type {\n",
       "        vertical-align: middle;\n",
       "    }\n",
       "\n",
       "    .dataframe tbody tr th {\n",
       "        vertical-align: top;\n",
       "    }\n",
       "\n",
       "    .dataframe thead th {\n",
       "        text-align: right;\n",
       "    }\n",
       "</style>\n",
       "<table border=\"1\" class=\"dataframe\">\n",
       "  <thead>\n",
       "    <tr style=\"text-align: right;\">\n",
       "      <th></th>\n",
       "      <th>Timestamp</th>\n",
       "      <th>B_AVG</th>\n",
       "      <th>B_filtered</th>\n",
       "    </tr>\n",
       "  </thead>\n",
       "  <tbody>\n",
       "    <tr>\n",
       "      <th>3115733</th>\n",
       "      <td>2015-12-04 16:53:00</td>\n",
       "      <td>-99999.0</td>\n",
       "      <td>NaN</td>\n",
       "    </tr>\n",
       "    <tr>\n",
       "      <th>3115734</th>\n",
       "      <td>2015-12-04 16:54:00</td>\n",
       "      <td>-99999.0</td>\n",
       "      <td>NaN</td>\n",
       "    </tr>\n",
       "    <tr>\n",
       "      <th>3115735</th>\n",
       "      <td>2015-12-04 16:55:00</td>\n",
       "      <td>-99999.0</td>\n",
       "      <td>NaN</td>\n",
       "    </tr>\n",
       "    <tr>\n",
       "      <th>3115736</th>\n",
       "      <td>2015-12-04 16:56:00</td>\n",
       "      <td>-99999.0</td>\n",
       "      <td>NaN</td>\n",
       "    </tr>\n",
       "    <tr>\n",
       "      <th>3115737</th>\n",
       "      <td>2015-12-04 16:57:00</td>\n",
       "      <td>-99999.0</td>\n",
       "      <td>NaN</td>\n",
       "    </tr>\n",
       "    <tr>\n",
       "      <th>3115738</th>\n",
       "      <td>2015-12-04 16:58:00</td>\n",
       "      <td>-99999.0</td>\n",
       "      <td>NaN</td>\n",
       "    </tr>\n",
       "    <tr>\n",
       "      <th>3115739</th>\n",
       "      <td>2015-12-04 16:59:00</td>\n",
       "      <td>-99999.0</td>\n",
       "      <td>NaN</td>\n",
       "    </tr>\n",
       "    <tr>\n",
       "      <th>3115740</th>\n",
       "      <td>2015-12-04 17:00:00</td>\n",
       "      <td>-99999.0</td>\n",
       "      <td>NaN</td>\n",
       "    </tr>\n",
       "    <tr>\n",
       "      <th>3115741</th>\n",
       "      <td>2015-12-04 17:01:00</td>\n",
       "      <td>-99999.0</td>\n",
       "      <td>NaN</td>\n",
       "    </tr>\n",
       "    <tr>\n",
       "      <th>3115742</th>\n",
       "      <td>2015-12-04 17:02:00</td>\n",
       "      <td>-99999.0</td>\n",
       "      <td>NaN</td>\n",
       "    </tr>\n",
       "    <tr>\n",
       "      <th>3115743</th>\n",
       "      <td>2015-12-04 17:03:00</td>\n",
       "      <td>-99999.0</td>\n",
       "      <td>NaN</td>\n",
       "    </tr>\n",
       "    <tr>\n",
       "      <th>3115744</th>\n",
       "      <td>2015-12-04 17:04:00</td>\n",
       "      <td>-99999.0</td>\n",
       "      <td>NaN</td>\n",
       "    </tr>\n",
       "    <tr>\n",
       "      <th>3115745</th>\n",
       "      <td>2015-12-04 17:05:00</td>\n",
       "      <td>-99999.0</td>\n",
       "      <td>NaN</td>\n",
       "    </tr>\n",
       "    <tr>\n",
       "      <th>3115746</th>\n",
       "      <td>2015-12-04 17:06:00</td>\n",
       "      <td>-99999.0</td>\n",
       "      <td>NaN</td>\n",
       "    </tr>\n",
       "    <tr>\n",
       "      <th>3115747</th>\n",
       "      <td>2015-12-04 17:07:00</td>\n",
       "      <td>-99999.0</td>\n",
       "      <td>NaN</td>\n",
       "    </tr>\n",
       "    <tr>\n",
       "      <th>3115748</th>\n",
       "      <td>2015-12-04 17:08:00</td>\n",
       "      <td>-99999.0</td>\n",
       "      <td>NaN</td>\n",
       "    </tr>\n",
       "    <tr>\n",
       "      <th>3115749</th>\n",
       "      <td>2015-12-04 17:09:00</td>\n",
       "      <td>-99999.0</td>\n",
       "      <td>NaN</td>\n",
       "    </tr>\n",
       "    <tr>\n",
       "      <th>3115750</th>\n",
       "      <td>2015-12-04 17:10:00</td>\n",
       "      <td>-99999.0</td>\n",
       "      <td>NaN</td>\n",
       "    </tr>\n",
       "    <tr>\n",
       "      <th>3115751</th>\n",
       "      <td>2015-12-04 17:11:00</td>\n",
       "      <td>-99999.0</td>\n",
       "      <td>NaN</td>\n",
       "    </tr>\n",
       "    <tr>\n",
       "      <th>3115752</th>\n",
       "      <td>2015-12-04 17:12:00</td>\n",
       "      <td>-99999.0</td>\n",
       "      <td>NaN</td>\n",
       "    </tr>\n",
       "    <tr>\n",
       "      <th>3115753</th>\n",
       "      <td>2015-12-04 17:13:00</td>\n",
       "      <td>-99999.0</td>\n",
       "      <td>NaN</td>\n",
       "    </tr>\n",
       "    <tr>\n",
       "      <th>3115754</th>\n",
       "      <td>2015-12-04 17:14:00</td>\n",
       "      <td>-99999.0</td>\n",
       "      <td>NaN</td>\n",
       "    </tr>\n",
       "    <tr>\n",
       "      <th>3115755</th>\n",
       "      <td>2015-12-04 17:15:00</td>\n",
       "      <td>-99999.0</td>\n",
       "      <td>NaN</td>\n",
       "    </tr>\n",
       "  </tbody>\n",
       "</table>\n",
       "</div>"
      ],
      "text/plain": [
       "                   Timestamp    B_AVG  B_filtered\n",
       "3115733  2015-12-04 16:53:00 -99999.0         NaN\n",
       "3115734  2015-12-04 16:54:00 -99999.0         NaN\n",
       "3115735  2015-12-04 16:55:00 -99999.0         NaN\n",
       "3115736  2015-12-04 16:56:00 -99999.0         NaN\n",
       "3115737  2015-12-04 16:57:00 -99999.0         NaN\n",
       "3115738  2015-12-04 16:58:00 -99999.0         NaN\n",
       "3115739  2015-12-04 16:59:00 -99999.0         NaN\n",
       "3115740  2015-12-04 17:00:00 -99999.0         NaN\n",
       "3115741  2015-12-04 17:01:00 -99999.0         NaN\n",
       "3115742  2015-12-04 17:02:00 -99999.0         NaN\n",
       "3115743  2015-12-04 17:03:00 -99999.0         NaN\n",
       "3115744  2015-12-04 17:04:00 -99999.0         NaN\n",
       "3115745  2015-12-04 17:05:00 -99999.0         NaN\n",
       "3115746  2015-12-04 17:06:00 -99999.0         NaN\n",
       "3115747  2015-12-04 17:07:00 -99999.0         NaN\n",
       "3115748  2015-12-04 17:08:00 -99999.0         NaN\n",
       "3115749  2015-12-04 17:09:00 -99999.0         NaN\n",
       "3115750  2015-12-04 17:10:00 -99999.0         NaN\n",
       "3115751  2015-12-04 17:11:00 -99999.0         NaN\n",
       "3115752  2015-12-04 17:12:00 -99999.0         NaN\n",
       "3115753  2015-12-04 17:13:00 -99999.0         NaN\n",
       "3115754  2015-12-04 17:14:00 -99999.0         NaN\n",
       "3115755  2015-12-04 17:15:00 -99999.0         NaN"
      ]
     },
     "execution_count": 14,
     "metadata": {},
     "output_type": "execute_result"
    }
   ],
   "source": [
    "df_xray.loc[df_xray['Timestamp'].between(\"2015-12-04 16:53:00\", \"2015-12-04 17:15:00\"), :]"
   ]
  },
  {
   "cell_type": "code",
   "execution_count": 16,
   "id": "eb7fc376-4b36-402a-abe3-1b735c027ec1",
   "metadata": {
    "tags": []
   },
   "outputs": [
    {
     "data": {
      "text/plain": [
       "0.5854625550660792"
      ]
     },
     "execution_count": 16,
     "metadata": {},
     "output_type": "execute_result"
    }
   ],
   "source": [
    "1329/(941+1329)"
   ]
  },
  {
   "cell_type": "code",
   "execution_count": 17,
   "id": "507b79a8-1869-4972-9585-0d76ceadf6e7",
   "metadata": {
    "tags": []
   },
   "outputs": [
    {
     "data": {
      "text/plain": [
       "1.412327311370882"
      ]
     },
     "execution_count": 17,
     "metadata": {},
     "output_type": "execute_result"
    }
   ],
   "source": [
    "1329/941"
   ]
  },
  {
   "cell_type": "code",
   "execution_count": 18,
   "id": "4f33773e-483d-497b-b64f-5b78aa1ceff5",
   "metadata": {
    "tags": []
   },
   "outputs": [],
   "source": [
    " from pyts.datasets import load_gunpoint"
   ]
  },
  {
   "cell_type": "code",
   "execution_count": 19,
   "id": "f215b8fd-82ce-460e-b97e-99df7598369f",
   "metadata": {
    "tags": []
   },
   "outputs": [],
   "source": [
    " X_train, X_test, y_train, y_test = load_gunpoint(return_X_y=True)"
   ]
  },
  {
   "cell_type": "code",
   "execution_count": 20,
   "id": "c5504776-562f-4df4-bf46-9e81ba124610",
   "metadata": {
    "tags": []
   },
   "outputs": [
    {
     "data": {
      "text/plain": [
       "array([[-0.6478854 , -0.64199155, -0.63818632, ..., -0.64042873,\n",
       "        -0.63866571, -0.63865722],\n",
       "       [-0.64442658, -0.64540093, -0.64705511, ..., -0.6349345 ,\n",
       "        -0.6344968 , -0.63159565],\n",
       "       [-0.77835282, -0.77827907, -0.77715084, ..., -0.70419626,\n",
       "        -0.70760524, -0.7071202 ],\n",
       "       ...,\n",
       "       [-0.77912617, -0.77837863, -0.7757449 , ..., -0.50500603,\n",
       "        -0.50373099, -0.50438486],\n",
       "       [-0.70303339, -0.70261754, -0.70250356, ..., -0.64113375,\n",
       "        -0.64140622, -0.64210896],\n",
       "       [-1.4357199 , -1.4322717 , -1.4329285 , ..., -1.4354619 ,\n",
       "        -1.4352821 , -1.4308845 ]])"
      ]
     },
     "execution_count": 20,
     "metadata": {},
     "output_type": "execute_result"
    }
   ],
   "source": [
    "X_train"
   ]
  },
  {
   "cell_type": "code",
   "execution_count": 21,
   "id": "50cb7349-3af4-4eec-84f2-e0b849a268d5",
   "metadata": {
    "tags": []
   },
   "outputs": [
    {
     "data": {
      "text/plain": [
       "array([2, 2, 1, 1, 2, 2, 2, 2, 2, 1, 1, 1, 1, 1, 2, 1, 2, 2, 1, 2, 1, 1,\n",
       "       1, 2, 1, 2, 1, 1, 2, 1, 1, 2, 2, 1, 2, 1, 2, 2, 2, 2, 2, 1, 1, 1,\n",
       "       2, 2, 1, 2, 1, 2])"
      ]
     },
     "execution_count": 21,
     "metadata": {},
     "output_type": "execute_result"
    }
   ],
   "source": [
    "y_train"
   ]
  },
  {
   "cell_type": "code",
   "execution_count": null,
   "id": "71c60a7a-167c-4d9f-83b9-d129ec26f502",
   "metadata": {},
   "outputs": [],
   "source": []
  }
 ],
 "metadata": {
  "kernelspec": {
   "display_name": "CMEPred",
   "language": "python",
   "name": "cmepred"
  },
  "language_info": {
   "codemirror_mode": {
    "name": "ipython",
    "version": 3
   },
   "file_extension": ".py",
   "mimetype": "text/x-python",
   "name": "python",
   "nbconvert_exporter": "python",
   "pygments_lexer": "ipython3",
   "version": "3.11.3"
  }
 },
 "nbformat": 4,
 "nbformat_minor": 5
}
