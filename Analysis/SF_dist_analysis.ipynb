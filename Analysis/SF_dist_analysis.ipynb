{
 "cells": [
  {
   "cell_type": "code",
   "execution_count": 1,
   "id": "e0f7d7bc-3de2-4c6f-ac2c-cebffc01ce5c",
   "metadata": {
    "tags": []
   },
   "outputs": [],
   "source": [
    "import numpy as np\n",
    "import pandas as pd\n",
    "import seaborn as sns\n",
    "import matplotlib.pyplot as plt"
   ]
  },
  {
   "cell_type": "code",
   "execution_count": 2,
   "id": "207b507d-0881-46e0-9b1d-489534a5d3c3",
   "metadata": {
    "tags": []
   },
   "outputs": [],
   "source": [
    "df_xray = pd.read_csv(\"/media/jh/maxone/Research/GSU/Research1_xray_flux/fixed_all_xrs_rxfi_2023.csv\")\n",
    "df_list = pd.read_csv(\"/media/jh/maxone/Research/GSU/Research1_xray_flux/MultiwayIntegration_2010_to_2018_conf_rxfi.csv\")"
   ]
  },
  {
   "cell_type": "code",
   "execution_count": 3,
   "id": "1ed8c2ea-999e-4b47-b4d9-900ef468e9f2",
   "metadata": {
    "tags": []
   },
   "outputs": [],
   "source": [
    "df_list['start_time'] = pd.to_datetime(df_list['start_time'])\n",
    "df_list['peak_time'] = pd.to_datetime(df_list['peak_time'])\n",
    "df_list['end_time'] = pd.to_datetime(df_list['end_time'])"
   ]
  },
  {
   "cell_type": "code",
   "execution_count": 4,
   "id": "f8376778-aa13-4c90-a5aa-b76a8f87ec54",
   "metadata": {
    "tags": []
   },
   "outputs": [],
   "source": [
    "# Preprocessing\n",
    "# if the timestamp is midnight (hour:min:sec, 00:00:00), the time difference is wrong. So we add 1days\n",
    "filter_t = df_list.query('peak_time.dt.hour == 0 and peak_time.dt.minute == 0 and peak_time.dt.second == 0').index\n",
    "df_list.loc[filter_t, 'peak_time'] += pd.Timedelta(days = 1)\n",
    "\n",
    "# calculate the time differences beween event time (1. peak - start, 2. end - peak)\n",
    "df_list = df_list.assign(StEnd = (df_list['end_time'] - df_list['start_time']).dt.total_seconds()/60)\n",
    "\n",
    "# time difference between previous flare and next flare\n",
    "list_td = [0]\n",
    "for i in range(1, len(df_list)):\n",
    "    td = (df_list.iloc[i, 1] - df_list.iloc[i-1, 3]).total_seconds()/60\n",
    "    if td > 0:\n",
    "        list_td.append( td ) # start time(ith flare) -  end time(i-1th flare)\n",
    "    else:\n",
    "        list_td.append(None)\n",
    "df_list['TdiffFL'] = list_td\n",
    "\n",
    "# remove rows with missing values\n",
    "df_list = df_list.loc[ (df_list['TdiffFL'].notnull()) & (df_list['StEnd'].notnull()), :]"
   ]
  },
  {
   "cell_type": "code",
   "execution_count": 5,
   "id": "bd0b0129-9045-4e3a-8bec-2988afdbf758",
   "metadata": {
    "tags": []
   },
   "outputs": [
    {
     "data": {
      "text/html": [
       "<div>\n",
       "<style scoped>\n",
       "    .dataframe tbody tr th:only-of-type {\n",
       "        vertical-align: middle;\n",
       "    }\n",
       "\n",
       "    .dataframe tbody tr th {\n",
       "        vertical-align: top;\n",
       "    }\n",
       "\n",
       "    .dataframe thead th {\n",
       "        text-align: right;\n",
       "    }\n",
       "</style>\n",
       "<table border=\"1\" class=\"dataframe\">\n",
       "  <thead>\n",
       "    <tr style=\"text-align: right;\">\n",
       "      <th></th>\n",
       "      <th>flare_id</th>\n",
       "      <th>start_time</th>\n",
       "      <th>peak_time</th>\n",
       "      <th>end_time</th>\n",
       "      <th>goes_class</th>\n",
       "      <th>noaa_active_region</th>\n",
       "      <th>fl_lon</th>\n",
       "      <th>fl_lat</th>\n",
       "      <th>fl_loc_src</th>\n",
       "      <th>ssw_flare_id</th>\n",
       "      <th>...</th>\n",
       "      <th>Flare_rise_time</th>\n",
       "      <th>Flare_decay_time</th>\n",
       "      <th>Flare_duration</th>\n",
       "      <th>rise_gradient</th>\n",
       "      <th>decay_gradient</th>\n",
       "      <th>avg_fluorescence</th>\n",
       "      <th>avg_rise_fluorescence</th>\n",
       "      <th>avg_decay_fluorescence</th>\n",
       "      <th>StEnd</th>\n",
       "      <th>TdiffFL</th>\n",
       "    </tr>\n",
       "  </thead>\n",
       "  <tbody>\n",
       "    <tr>\n",
       "      <th>0</th>\n",
       "      <td>gid_sdo_1</td>\n",
       "      <td>2010-05-01 01:34:00</td>\n",
       "      <td>2010-05-01 01:39:00</td>\n",
       "      <td>2010-05-01 01:43:00</td>\n",
       "      <td>C5.7</td>\n",
       "      <td>11067.0</td>\n",
       "      <td>-73.000000</td>\n",
       "      <td>23.0</td>\n",
       "      <td>GOES</td>\n",
       "      <td>gev_20100501_0134</td>\n",
       "      <td>...</td>\n",
       "      <td>5</td>\n",
       "      <td>4</td>\n",
       "      <td>9</td>\n",
       "      <td>1.125829e-06</td>\n",
       "      <td>-9.056000e-07</td>\n",
       "      <td>0.000003</td>\n",
       "      <td>0.000003</td>\n",
       "      <td>0.000005</td>\n",
       "      <td>9.0</td>\n",
       "      <td>0.0</td>\n",
       "    </tr>\n",
       "    <tr>\n",
       "      <th>1</th>\n",
       "      <td>gid_sdo_2</td>\n",
       "      <td>2010-05-04 16:15:00</td>\n",
       "      <td>2010-05-04 16:29:00</td>\n",
       "      <td>2010-05-04 16:34:00</td>\n",
       "      <td>C3.6</td>\n",
       "      <td>11069.0</td>\n",
       "      <td>23.000000</td>\n",
       "      <td>41.0</td>\n",
       "      <td>GOES</td>\n",
       "      <td>gev_20100504_1615</td>\n",
       "      <td>...</td>\n",
       "      <td>14</td>\n",
       "      <td>5</td>\n",
       "      <td>19</td>\n",
       "      <td>2.492250e-07</td>\n",
       "      <td>-3.741800e-07</td>\n",
       "      <td>0.000002</td>\n",
       "      <td>0.000001</td>\n",
       "      <td>0.000003</td>\n",
       "      <td>19.0</td>\n",
       "      <td>5192.0</td>\n",
       "    </tr>\n",
       "    <tr>\n",
       "      <th>2</th>\n",
       "      <td>gid_sdo_3</td>\n",
       "      <td>2010-05-05 07:09:00</td>\n",
       "      <td>2010-05-05 07:16:00</td>\n",
       "      <td>2010-05-05 07:20:00</td>\n",
       "      <td>C2.3</td>\n",
       "      <td>11069.0</td>\n",
       "      <td>30.899097</td>\n",
       "      <td>42.0</td>\n",
       "      <td>GOES</td>\n",
       "      <td>gev_20100505_0709</td>\n",
       "      <td>...</td>\n",
       "      <td>7</td>\n",
       "      <td>4</td>\n",
       "      <td>11</td>\n",
       "      <td>3.160856e-07</td>\n",
       "      <td>-3.034250e-07</td>\n",
       "      <td>0.000001</td>\n",
       "      <td>0.000001</td>\n",
       "      <td>0.000002</td>\n",
       "      <td>11.0</td>\n",
       "      <td>875.0</td>\n",
       "    </tr>\n",
       "    <tr>\n",
       "      <th>3</th>\n",
       "      <td>gid_sdo_4</td>\n",
       "      <td>2010-05-05 11:37:00</td>\n",
       "      <td>2010-05-05 11:52:00</td>\n",
       "      <td>2010-05-05 11:58:00</td>\n",
       "      <td>C8.8</td>\n",
       "      <td>11069.0</td>\n",
       "      <td>33.367332</td>\n",
       "      <td>42.0</td>\n",
       "      <td>GOES</td>\n",
       "      <td>gev_20100505_1137</td>\n",
       "      <td>...</td>\n",
       "      <td>15</td>\n",
       "      <td>6</td>\n",
       "      <td>21</td>\n",
       "      <td>5.758880e-07</td>\n",
       "      <td>-7.681000e-07</td>\n",
       "      <td>0.000003</td>\n",
       "      <td>0.000002</td>\n",
       "      <td>0.000007</td>\n",
       "      <td>21.0</td>\n",
       "      <td>257.0</td>\n",
       "    </tr>\n",
       "    <tr>\n",
       "      <th>4</th>\n",
       "      <td>gid_sdo_5</td>\n",
       "      <td>2010-05-05 17:13:00</td>\n",
       "      <td>2010-05-05 17:19:00</td>\n",
       "      <td>2010-05-05 17:22:00</td>\n",
       "      <td>M1.2</td>\n",
       "      <td>11069.0</td>\n",
       "      <td>37.000000</td>\n",
       "      <td>42.0</td>\n",
       "      <td>GOES</td>\n",
       "      <td>gev_20100505_1713</td>\n",
       "      <td>...</td>\n",
       "      <td>6</td>\n",
       "      <td>3</td>\n",
       "      <td>9</td>\n",
       "      <td>1.966452e-06</td>\n",
       "      <td>-1.849167e-06</td>\n",
       "      <td>0.000006</td>\n",
       "      <td>0.000005</td>\n",
       "      <td>0.000013</td>\n",
       "      <td>9.0</td>\n",
       "      <td>315.0</td>\n",
       "    </tr>\n",
       "  </tbody>\n",
       "</table>\n",
       "<p>5 rows × 50 columns</p>\n",
       "</div>"
      ],
      "text/plain": [
       "    flare_id          start_time           peak_time            end_time  \\\n",
       "0  gid_sdo_1 2010-05-01 01:34:00 2010-05-01 01:39:00 2010-05-01 01:43:00   \n",
       "1  gid_sdo_2 2010-05-04 16:15:00 2010-05-04 16:29:00 2010-05-04 16:34:00   \n",
       "2  gid_sdo_3 2010-05-05 07:09:00 2010-05-05 07:16:00 2010-05-05 07:20:00   \n",
       "3  gid_sdo_4 2010-05-05 11:37:00 2010-05-05 11:52:00 2010-05-05 11:58:00   \n",
       "4  gid_sdo_5 2010-05-05 17:13:00 2010-05-05 17:19:00 2010-05-05 17:22:00   \n",
       "\n",
       "  goes_class  noaa_active_region     fl_lon  fl_lat fl_loc_src  \\\n",
       "0       C5.7             11067.0 -73.000000    23.0       GOES   \n",
       "1       C3.6             11069.0  23.000000    41.0       GOES   \n",
       "2       C2.3             11069.0  30.899097    42.0       GOES   \n",
       "3       C8.8             11069.0  33.367332    42.0       GOES   \n",
       "4       M1.2             11069.0  37.000000    42.0       GOES   \n",
       "\n",
       "        ssw_flare_id  ...  Flare_rise_time  Flare_decay_time  Flare_duration  \\\n",
       "0  gev_20100501_0134  ...                5                 4               9   \n",
       "1  gev_20100504_1615  ...               14                 5              19   \n",
       "2  gev_20100505_0709  ...                7                 4              11   \n",
       "3  gev_20100505_1137  ...               15                 6              21   \n",
       "4  gev_20100505_1713  ...                6                 3               9   \n",
       "\n",
       "  rise_gradient decay_gradient  avg_fluorescence  avg_rise_fluorescence  \\\n",
       "0  1.125829e-06  -9.056000e-07          0.000003               0.000003   \n",
       "1  2.492250e-07  -3.741800e-07          0.000002               0.000001   \n",
       "2  3.160856e-07  -3.034250e-07          0.000001               0.000001   \n",
       "3  5.758880e-07  -7.681000e-07          0.000003               0.000002   \n",
       "4  1.966452e-06  -1.849167e-06          0.000006               0.000005   \n",
       "\n",
       "   avg_decay_fluorescence  StEnd  TdiffFL  \n",
       "0                0.000005    9.0      0.0  \n",
       "1                0.000003   19.0   5192.0  \n",
       "2                0.000002   11.0    875.0  \n",
       "3                0.000007   21.0    257.0  \n",
       "4                0.000013    9.0    315.0  \n",
       "\n",
       "[5 rows x 50 columns]"
      ]
     },
     "execution_count": 5,
     "metadata": {},
     "output_type": "execute_result"
    }
   ],
   "source": [
    "df_list.head()"
   ]
  },
  {
   "cell_type": "code",
   "execution_count": 6,
   "id": "e18ed090-27fb-48d8-878c-5ea63f549b99",
   "metadata": {
    "tags": []
   },
   "outputs": [
    {
     "name": "stdout",
     "output_type": "stream",
     "text": [
      "This plot show the time difference between End time - Start time of the flares.\n",
      "Time difference 24.0 (min) is upper 75.0% quantile!\n"
     ]
    },
    {
     "data": {
      "image/png": "[encoded data removed]",
      "text/plain": [
       "<Figure size 640x480 with 1 Axes>"
      ]
     },
     "metadata": {},
     "output_type": "display_data"
    }
   ],
   "source": [
    "quantile_after = 0.75\n",
    "print(\"This plot show the time difference between End time - Start time of the flares.\")\n",
    "print(f\"Time difference {df_list['StEnd'].quantile(quantile_after)} (min) is upper {quantile_after*100}% quantile!\")\n",
    "plt.hist(df_list['StEnd'], log = True, bins = 50)\n",
    "plt.show()"
   ]
  },
  {
   "cell_type": "code",
   "execution_count": 7,
   "id": "294d3148-0a1e-4eaf-9078-e9c7c57c4c47",
   "metadata": {},
   "outputs": [
    {
     "name": "stdout",
     "output_type": "stream",
     "text": [
      "This plot show the time difference between End time of previous flare - Start time of the current flare.\n",
      "Time difference 20.0 (min) is lower 10.0% quantile!\n"
     ]
    },
    {
     "data": {
      "image/png": "[encoded data removed]",
      "text/plain": [
       "<Figure size 640x480 with 1 Axes>"
      ]
     },
     "metadata": {},
     "output_type": "display_data"
    }
   ],
   "source": [
    "quantile_before = 0.1\n",
    "print(\"This plot show the time difference between End time of previous flare - Start time of the current flare.\")\n",
    "print(f\"Time difference {df_list['TdiffFL'].quantile(quantile_before)} (min) is lower {quantile_before*100}% quantile!\")\n",
    "# binwidth = 1000\n",
    "# bins = plt.hist(df_list['TdiffFL'], log = True, bins=range(int(min(df_list['TdiffFL'])), int(max(df_list['TdiffFL'])) + binwidth, binwidth))\n",
    "bins = plt.hist(df_list['TdiffFL'], log = True)\n",
    "plt.show()"
   ]
  },
  {
   "cell_type": "code",
   "execution_count": 28,
   "id": "d6808743-3081-4e62-9560-f2e29af141ac",
   "metadata": {
    "tags": []
   },
   "outputs": [
    {
     "data": {
      "image/png": "[encoded data removed]",
      "text/plain": [
       "<Figure size 1000x400 with 3 Axes>"
      ]
     },
     "metadata": {},
     "output_type": "display_data"
    }
   ],
   "source": [
    "plt.rcParams.update({\n",
    "    \"font.family\": \"serif\",\n",
    "    \"font.serif\": \"Times New Roman\"})\n",
    "\n",
    "# plt.boxplot(df_list['StEnd'], showfliers=False)\n",
    "fig, axis = plt.subplots(1, 3, figsize=(10, 4), gridspec_kw={'width_ratios': [0.9, 0.9, 1.5]})\n",
    "# bp = sns.boxplot(data = df_list['StEnd'], showfliers=False, ax = axis[0], color = 'C0')\n",
    "axis[0].boxplot(df_list['StEnd'], showfliers=False)\n",
    "axis[0].set_yticks([0, 10, 20, 30, 40, 50])\n",
    "axis[0].set_yticklabels(labels = [0, 10, 20, 30, 40, 50], fontsize=13)\n",
    "axis[0].set_ylabel('Time (min)', fontsize = 16)\n",
    "axis[0].set_xticklabels(labels = ['Boxplot'], fontsize = 13)\n",
    "axis[0].set_xlabel('(a) Flare Duration', fontsize = 14)\n",
    "\n",
    "q1_ax0 = df_list['StEnd'].quantile(0.25). round(2)\n",
    "m_ax0 = df_list['StEnd'].quantile(0.5). round(2)\n",
    "q3_ax0 = df_list['StEnd'].quantile(0.75). round(2)\n",
    "axis[0].text(1.1, q1_ax0 + 1, s = f'Q1: {int(q1_ax0)}' , fontsize = 12)\n",
    "axis[0].text(1.1, m_ax0 + 1, s = f'Q2: {int(m_ax0)}' , fontsize = 12)\n",
    "axis[0].text(1.1, q3_ax0 + 1, s = f'Q3: {int(q3_ax0)}' , fontsize = 12)\n",
    "    \n",
    "# sns.boxplot(data = df_list['TdiffFL'], showfliers=False, ax = axis[1])\n",
    "axis[1].boxplot(df_list.loc[df_list['TdiffFL'].notnull(), 'TdiffFL'], showfliers=False)\n",
    "axis[1].set_yticks([0, 200, 400, 600, 800])\n",
    "axis[1].set_yticklabels(labels = [0, 200, 400, 600, 800], fontsize=13)\n",
    "axis[1].set_ylabel('', fontsize = 14)\n",
    "axis[1].set_xticklabels(labels = ['Boxplot'], fontsize = 13)\n",
    "axis[1].set_xlabel('(b) Interflare interval', fontsize = 14)\n",
    "\n",
    "q1_ax1 = df_list['TdiffFL'].quantile(0.25). round(2)\n",
    "m_ax1 = df_list['TdiffFL'].quantile(0.5). round(2)\n",
    "q3_ax1 = df_list['TdiffFL'].quantile(0.75). round(2)\n",
    "axis[1].text(1.1, q1_ax1 + 10, s = f'Q1: {int( q1_ax1 )}' , fontsize = 12)\n",
    "axis[1].text(1.1, m_ax1 + 10, s = f'Q2: {int(m_ax1)}' , fontsize = 12)\n",
    "axis[1].text(1.1, q3_ax1 + 10, s = f'Q3: {int( q3_ax1 )}' , fontsize = 12)\n",
    "\n",
    "axis[2].hist(df_list['cme_vel'], bins = 20)\n",
    "axis[2].set_yticks([0, 200, 400, 600, 800, 1000, 1200])\n",
    "axis[2].set_yticklabels(labels = [0, 200, 400, 600, 800, 1000, 1200], fontsize=13)\n",
    "axis[2].set_ylabel('Number of instances', fontsize = 14)\n",
    "axis[2].set_xticks([500, 1000, 1500, 2000, 2500, 3000])\n",
    "axis[2].set_xticklabels(labels = [500, 1000, 1500, 2000, 2500, 3000], fontsize = 13)\n",
    "axis[2].set_xlabel('(c) CME Speed (km/s)', fontsize = 14)\n",
    "fig.tight_layout()\n",
    "plt.savefig(\"Flare_time_distribution.pdf\", dpi=300, bbox_inches='tight')\n",
    "plt.show()"
   ]
  },
  {
   "cell_type": "code",
   "execution_count": 9,
   "id": "d19a4fd4-429b-4788-8767-c924115ff7ea",
   "metadata": {
    "tags": []
   },
   "outputs": [
    {
     "data": {
      "text/html": [
       "<div>\n",
       "<style scoped>\n",
       "    .dataframe tbody tr th:only-of-type {\n",
       "        vertical-align: middle;\n",
       "    }\n",
       "\n",
       "    .dataframe tbody tr th {\n",
       "        vertical-align: top;\n",
       "    }\n",
       "\n",
       "    .dataframe thead th {\n",
       "        text-align: right;\n",
       "    }\n",
       "</style>\n",
       "<table border=\"1\" class=\"dataframe\">\n",
       "  <thead>\n",
       "    <tr style=\"text-align: right;\">\n",
       "      <th></th>\n",
       "      <th>flare_id</th>\n",
       "      <th>start_time</th>\n",
       "      <th>peak_time</th>\n",
       "      <th>end_time</th>\n",
       "      <th>goes_class</th>\n",
       "      <th>noaa_active_region</th>\n",
       "      <th>fl_lon</th>\n",
       "      <th>fl_lat</th>\n",
       "      <th>fl_loc_src</th>\n",
       "      <th>ssw_flare_id</th>\n",
       "      <th>...</th>\n",
       "      <th>Flare_rise_time</th>\n",
       "      <th>Flare_decay_time</th>\n",
       "      <th>Flare_duration</th>\n",
       "      <th>rise_gradient</th>\n",
       "      <th>decay_gradient</th>\n",
       "      <th>avg_fluorescence</th>\n",
       "      <th>avg_rise_fluorescence</th>\n",
       "      <th>avg_decay_fluorescence</th>\n",
       "      <th>StEnd</th>\n",
       "      <th>TdiffFL</th>\n",
       "    </tr>\n",
       "  </thead>\n",
       "  <tbody>\n",
       "    <tr>\n",
       "      <th>64</th>\n",
       "      <td>gid_sdo_67</td>\n",
       "      <td>2010-11-01 04:36:00</td>\n",
       "      <td>2010-11-01 04:43:00</td>\n",
       "      <td>2010-11-01 04:50:00</td>\n",
       "      <td>C1.1</td>\n",
       "      <td>NaN</td>\n",
       "      <td>NaN</td>\n",
       "      <td>NaN</td>\n",
       "      <td>XRT</td>\n",
       "      <td>NaN</td>\n",
       "      <td>...</td>\n",
       "      <td>7</td>\n",
       "      <td>7</td>\n",
       "      <td>14</td>\n",
       "      <td>1.398757e-07</td>\n",
       "      <td>-6.459000e-08</td>\n",
       "      <td>8.354714e-07</td>\n",
       "      <td>7.448029e-07</td>\n",
       "      <td>1.108854e-06</td>\n",
       "      <td>14.0</td>\n",
       "      <td>1440.0</td>\n",
       "    </tr>\n",
       "    <tr>\n",
       "      <th>66</th>\n",
       "      <td>gid_sdo_69</td>\n",
       "      <td>2010-11-03 05:54:00</td>\n",
       "      <td>2010-11-03 06:11:00</td>\n",
       "      <td>2010-11-03 06:26:00</td>\n",
       "      <td>C3.8</td>\n",
       "      <td>NaN</td>\n",
       "      <td>NaN</td>\n",
       "      <td>NaN</td>\n",
       "      <td>XRT</td>\n",
       "      <td>NaN</td>\n",
       "      <td>...</td>\n",
       "      <td>17</td>\n",
       "      <td>15</td>\n",
       "      <td>32</td>\n",
       "      <td>2.122106e-07</td>\n",
       "      <td>-1.225200e-07</td>\n",
       "      <td>2.418688e-06</td>\n",
       "      <td>1.928589e-06</td>\n",
       "      <td>3.231540e-06</td>\n",
       "      <td>32.0</td>\n",
       "      <td>2944.0</td>\n",
       "    </tr>\n",
       "    <tr>\n",
       "      <th>67</th>\n",
       "      <td>gid_sdo_70</td>\n",
       "      <td>2010-11-03 12:07:00</td>\n",
       "      <td>2010-11-03 12:21:00</td>\n",
       "      <td>2010-11-03 12:33:00</td>\n",
       "      <td>C4.9</td>\n",
       "      <td>NaN</td>\n",
       "      <td>NaN</td>\n",
       "      <td>NaN</td>\n",
       "      <td>XRT</td>\n",
       "      <td>NaN</td>\n",
       "      <td>...</td>\n",
       "      <td>14</td>\n",
       "      <td>12</td>\n",
       "      <td>26</td>\n",
       "      <td>3.321914e-07</td>\n",
       "      <td>-1.910583e-07</td>\n",
       "      <td>2.816388e-06</td>\n",
       "      <td>2.165356e-06</td>\n",
       "      <td>3.991192e-06</td>\n",
       "      <td>26.0</td>\n",
       "      <td>341.0</td>\n",
       "    </tr>\n",
       "    <tr>\n",
       "      <th>68</th>\n",
       "      <td>gid_sdo_71</td>\n",
       "      <td>2010-11-03 12:43:00</td>\n",
       "      <td>2010-11-03 13:08:00</td>\n",
       "      <td>2010-11-03 13:51:00</td>\n",
       "      <td>C3.4</td>\n",
       "      <td>NaN</td>\n",
       "      <td>NaN</td>\n",
       "      <td>NaN</td>\n",
       "      <td>XRT</td>\n",
       "      <td>NaN</td>\n",
       "      <td>...</td>\n",
       "      <td>25</td>\n",
       "      <td>43</td>\n",
       "      <td>68</td>\n",
       "      <td>4.289600e-08</td>\n",
       "      <td>-1.257907e-08</td>\n",
       "      <td>3.109941e-06</td>\n",
       "      <td>3.053580e-06</td>\n",
       "      <td>3.222063e-06</td>\n",
       "      <td>68.0</td>\n",
       "      <td>10.0</td>\n",
       "    </tr>\n",
       "    <tr>\n",
       "      <th>70</th>\n",
       "      <td>gid_sdo_73</td>\n",
       "      <td>2010-11-04 02:34:00</td>\n",
       "      <td>2010-11-04 02:53:00</td>\n",
       "      <td>2010-11-04 03:10:00</td>\n",
       "      <td>C1.0</td>\n",
       "      <td>11121.0</td>\n",
       "      <td>-82.211576</td>\n",
       "      <td>-20.0</td>\n",
       "      <td>GOES</td>\n",
       "      <td>NaN</td>\n",
       "      <td>...</td>\n",
       "      <td>19</td>\n",
       "      <td>17</td>\n",
       "      <td>36</td>\n",
       "      <td>3.517474e-08</td>\n",
       "      <td>-1.850529e-08</td>\n",
       "      <td>8.744575e-07</td>\n",
       "      <td>8.592474e-07</td>\n",
       "      <td>9.534276e-07</td>\n",
       "      <td>36.0</td>\n",
       "      <td>763.0</td>\n",
       "    </tr>\n",
       "    <tr>\n",
       "      <th>71</th>\n",
       "      <td>gid_sdo_74</td>\n",
       "      <td>2010-11-04 23:30:00</td>\n",
       "      <td>2010-11-04 23:58:00</td>\n",
       "      <td>2010-11-05 00:12:00</td>\n",
       "      <td>M1.6</td>\n",
       "      <td>11121.0</td>\n",
       "      <td>-76.000000</td>\n",
       "      <td>-20.0</td>\n",
       "      <td>GOES</td>\n",
       "      <td>NaN</td>\n",
       "      <td>...</td>\n",
       "      <td>28</td>\n",
       "      <td>14</td>\n",
       "      <td>42</td>\n",
       "      <td>5.631286e-07</td>\n",
       "      <td>-5.710500e-07</td>\n",
       "      <td>5.616287e-06</td>\n",
       "      <td>2.553806e-06</td>\n",
       "      <td>1.290318e-05</td>\n",
       "      <td>42.0</td>\n",
       "      <td>1220.0</td>\n",
       "    </tr>\n",
       "  </tbody>\n",
       "</table>\n",
       "<p>6 rows × 50 columns</p>\n",
       "</div>"
      ],
      "text/plain": [
       "      flare_id          start_time           peak_time            end_time  \\\n",
       "64  gid_sdo_67 2010-11-01 04:36:00 2010-11-01 04:43:00 2010-11-01 04:50:00   \n",
       "66  gid_sdo_69 2010-11-03 05:54:00 2010-11-03 06:11:00 2010-11-03 06:26:00   \n",
       "67  gid_sdo_70 2010-11-03 12:07:00 2010-11-03 12:21:00 2010-11-03 12:33:00   \n",
       "68  gid_sdo_71 2010-11-03 12:43:00 2010-11-03 13:08:00 2010-11-03 13:51:00   \n",
       "70  gid_sdo_73 2010-11-04 02:34:00 2010-11-04 02:53:00 2010-11-04 03:10:00   \n",
       "71  gid_sdo_74 2010-11-04 23:30:00 2010-11-04 23:58:00 2010-11-05 00:12:00   \n",
       "\n",
       "   goes_class  noaa_active_region     fl_lon  fl_lat fl_loc_src ssw_flare_id  \\\n",
       "64       C1.1                 NaN        NaN     NaN        XRT          NaN   \n",
       "66       C3.8                 NaN        NaN     NaN        XRT          NaN   \n",
       "67       C4.9                 NaN        NaN     NaN        XRT          NaN   \n",
       "68       C3.4                 NaN        NaN     NaN        XRT          NaN   \n",
       "70       C1.0             11121.0 -82.211576   -20.0       GOES          NaN   \n",
       "71       M1.6             11121.0 -76.000000   -20.0       GOES          NaN   \n",
       "\n",
       "    ...  Flare_rise_time  Flare_decay_time  Flare_duration rise_gradient  \\\n",
       "64  ...                7                 7              14  1.398757e-07   \n",
       "66  ...               17                15              32  2.122106e-07   \n",
       "67  ...               14                12              26  3.321914e-07   \n",
       "68  ...               25                43              68  4.289600e-08   \n",
       "70  ...               19                17              36  3.517474e-08   \n",
       "71  ...               28                14              42  5.631286e-07   \n",
       "\n",
       "   decay_gradient  avg_fluorescence  avg_rise_fluorescence  \\\n",
       "64  -6.459000e-08      8.354714e-07           7.448029e-07   \n",
       "66  -1.225200e-07      2.418688e-06           1.928589e-06   \n",
       "67  -1.910583e-07      2.816388e-06           2.165356e-06   \n",
       "68  -1.257907e-08      3.109941e-06           3.053580e-06   \n",
       "70  -1.850529e-08      8.744575e-07           8.592474e-07   \n",
       "71  -5.710500e-07      5.616287e-06           2.553806e-06   \n",
       "\n",
       "    avg_decay_fluorescence  StEnd  TdiffFL  \n",
       "64            1.108854e-06   14.0   1440.0  \n",
       "66            3.231540e-06   32.0   2944.0  \n",
       "67            3.991192e-06   26.0    341.0  \n",
       "68            3.222063e-06   68.0     10.0  \n",
       "70            9.534276e-07   36.0    763.0  \n",
       "71            1.290318e-05   42.0   1220.0  \n",
       "\n",
       "[6 rows x 50 columns]"
      ]
     },
     "execution_count": 9,
     "metadata": {},
     "output_type": "execute_result"
    }
   ],
   "source": [
    "df_list.iloc[64:70, :]"
   ]
  },
  {
   "cell_type": "code",
   "execution_count": 10,
   "id": "7d4da57b-3bb1-4fbd-937e-c0cebb5050da",
   "metadata": {
    "tags": []
   },
   "outputs": [
    {
     "data": {
      "text/html": [
       "<div>\n",
       "<style scoped>\n",
       "    .dataframe tbody tr th:only-of-type {\n",
       "        vertical-align: middle;\n",
       "    }\n",
       "\n",
       "    .dataframe tbody tr th {\n",
       "        vertical-align: top;\n",
       "    }\n",
       "\n",
       "    .dataframe thead th {\n",
       "        text-align: right;\n",
       "    }\n",
       "</style>\n",
       "<table border=\"1\" class=\"dataframe\">\n",
       "  <thead>\n",
       "    <tr style=\"text-align: right;\">\n",
       "      <th></th>\n",
       "      <th>Timestamp</th>\n",
       "      <th>B_AVG</th>\n",
       "      <th>B_filtered</th>\n",
       "    </tr>\n",
       "  </thead>\n",
       "  <tbody>\n",
       "    <tr>\n",
       "      <th>6903</th>\n",
       "      <td>2010-01-05 19:03:00</td>\n",
       "      <td>-99999.0</td>\n",
       "      <td>NaN</td>\n",
       "    </tr>\n",
       "    <tr>\n",
       "      <th>8628</th>\n",
       "      <td>2010-01-06 23:48:00</td>\n",
       "      <td>-99999.0</td>\n",
       "      <td>NaN</td>\n",
       "    </tr>\n",
       "    <tr>\n",
       "      <th>8629</th>\n",
       "      <td>2010-01-06 23:49:00</td>\n",
       "      <td>-99999.0</td>\n",
       "      <td>NaN</td>\n",
       "    </tr>\n",
       "    <tr>\n",
       "      <th>8630</th>\n",
       "      <td>2010-01-06 23:50:00</td>\n",
       "      <td>-99999.0</td>\n",
       "      <td>NaN</td>\n",
       "    </tr>\n",
       "    <tr>\n",
       "      <th>8631</th>\n",
       "      <td>2010-01-06 23:51:00</td>\n",
       "      <td>-99999.0</td>\n",
       "      <td>NaN</td>\n",
       "    </tr>\n",
       "    <tr>\n",
       "      <th>...</th>\n",
       "      <td>...</td>\n",
       "      <td>...</td>\n",
       "      <td>...</td>\n",
       "    </tr>\n",
       "    <tr>\n",
       "      <th>4937863</th>\n",
       "      <td>2019-05-23 01:43:00</td>\n",
       "      <td>-99999.0</td>\n",
       "      <td>NaN</td>\n",
       "    </tr>\n",
       "    <tr>\n",
       "      <th>4937864</th>\n",
       "      <td>2019-05-23 01:44:00</td>\n",
       "      <td>-99999.0</td>\n",
       "      <td>NaN</td>\n",
       "    </tr>\n",
       "    <tr>\n",
       "      <th>4937865</th>\n",
       "      <td>2019-05-23 01:45:00</td>\n",
       "      <td>-99999.0</td>\n",
       "      <td>NaN</td>\n",
       "    </tr>\n",
       "    <tr>\n",
       "      <th>4937866</th>\n",
       "      <td>2019-05-23 01:46:00</td>\n",
       "      <td>-99999.0</td>\n",
       "      <td>NaN</td>\n",
       "    </tr>\n",
       "    <tr>\n",
       "      <th>4937867</th>\n",
       "      <td>2019-05-23 01:47:00</td>\n",
       "      <td>-99999.0</td>\n",
       "      <td>NaN</td>\n",
       "    </tr>\n",
       "  </tbody>\n",
       "</table>\n",
       "<p>37453 rows × 3 columns</p>\n",
       "</div>"
      ],
      "text/plain": [
       "                   Timestamp    B_AVG  B_filtered\n",
       "6903     2010-01-05 19:03:00 -99999.0         NaN\n",
       "8628     2010-01-06 23:48:00 -99999.0         NaN\n",
       "8629     2010-01-06 23:49:00 -99999.0         NaN\n",
       "8630     2010-01-06 23:50:00 -99999.0         NaN\n",
       "8631     2010-01-06 23:51:00 -99999.0         NaN\n",
       "...                      ...      ...         ...\n",
       "4937863  2019-05-23 01:43:00 -99999.0         NaN\n",
       "4937864  2019-05-23 01:44:00 -99999.0         NaN\n",
       "4937865  2019-05-23 01:45:00 -99999.0         NaN\n",
       "4937866  2019-05-23 01:46:00 -99999.0         NaN\n",
       "4937867  2019-05-23 01:47:00 -99999.0         NaN\n",
       "\n",
       "[37453 rows x 3 columns]"
      ]
     },
     "execution_count": 10,
     "metadata": {},
     "output_type": "execute_result"
    }
   ],
   "source": [
    "# There are also negative X-ray flux, so these values should be removed.\n",
    "df_xray.loc[df_xray['B_AVG'] < 0, :]"
   ]
  },
  {
   "cell_type": "code",
   "execution_count": 11,
   "id": "7d13a1fb-e640-4432-b0b3-0016550df12b",
   "metadata": {
    "tags": []
   },
   "outputs": [],
   "source": [
    "# remove the rows which do not have cme velocity\n",
    "df_er = df_list.loc[df_list['cme_vel'].notnull(), :]\n",
    "df_er = df_er.loc[(df_er['Background_X-ray_flux'].notnull()) \n",
    "                 & (df_er['goes_class_num'].notnull()) & (df_er['fluorescence'] >= 0) \n",
    "                 & (df_er['rise_gradient'] >= 0),  :]"
   ]
  },
  {
   "cell_type": "code",
   "execution_count": 30,
   "id": "8ce08e29-7b9f-489e-839a-82c8c133db84",
   "metadata": {
    "tags": []
   },
   "outputs": [
    {
     "data": {
      "text/plain": [
       "2227"
      ]
     },
     "execution_count": 30,
     "metadata": {},
     "output_type": "execute_result"
    }
   ],
   "source": [
    "len(df_er)"
   ]
  },
  {
   "cell_type": "code",
   "execution_count": 12,
   "id": "71c60a7a-167c-4d9f-83b9-d129ec26f502",
   "metadata": {},
   "outputs": [
    {
     "data": {
      "text/plain": [
       "label\n",
       "0    1311\n",
       "1     916\n",
       "Name: count, dtype: int64"
      ]
     },
     "execution_count": 12,
     "metadata": {},
     "output_type": "execute_result"
    }
   ],
   "source": [
    "# Check class imbalance, 500 is a current threshold.\n",
    "df_er = df_er.assign(label = np.where(df_er['cme_vel'] >= 500, 1, 0))\n",
    "df_er['label'].value_counts()"
   ]
  },
  {
   "cell_type": "markdown",
   "id": "1ec16fb2-1092-43fe-8889-ca6089cd9967",
   "metadata": {},
   "source": [
    "### CME speed distribution"
   ]
  },
  {
   "cell_type": "code",
   "execution_count": 13,
   "id": "7998a02d-13e0-4f4a-8ba1-7d425bc69566",
   "metadata": {
    "tags": []
   },
   "outputs": [
    {
     "data": {
      "image/png": "[encoded data removed]",
      "text/plain": [
       "<Figure size 600x400 with 1 Axes>"
      ]
     },
     "metadata": {},
     "output_type": "display_data"
    }
   ],
   "source": [
    "plt.figure(figsize=(6, 4))\n",
    "plt.hist(df_er['cme_vel'], bins = 20)\n",
    "plt.yticks(fontsize = 13)\n",
    "plt.xticks(fontsize = 13)\n",
    "plt.ylabel('Number of instances', fontsize = 16)\n",
    "plt.xlabel('CME Velocity (km/s)', fontsize = 16)\n",
    "plt.savefig(\"CME_Speed_distribution.pdf\", dpi=300, bbox_inches='tight')\n",
    "plt.show()"
   ]
  },
  {
   "cell_type": "code",
   "execution_count": 14,
   "id": "a251a7a9-9fcb-49e2-b624-8aa2a9d4b6ed",
   "metadata": {
    "tags": []
   },
   "outputs": [
    {
     "data": {
      "text/plain": [
       "916"
      ]
     },
     "execution_count": 14,
     "metadata": {},
     "output_type": "execute_result"
    }
   ],
   "source": [
    "len(df_er.loc[df_er['cme_vel'] >= 500, :]) "
   ]
  },
  {
   "cell_type": "code",
   "execution_count": 15,
   "id": "301abccb-c22c-4404-908f-767c1823096d",
   "metadata": {
    "tags": []
   },
   "outputs": [
    {
     "data": {
      "text/plain": [
       "1311"
      ]
     },
     "execution_count": 15,
     "metadata": {},
     "output_type": "execute_result"
    }
   ],
   "source": [
    "len(df_er.loc[df_er['cme_vel'] < 500, :]) "
   ]
  },
  {
   "cell_type": "code",
   "execution_count": null,
   "id": "7e8902f5-c5ce-46e9-9aec-aba9e0486828",
   "metadata": {},
   "outputs": [],
   "source": []
  }
 ],
 "metadata": {
  "kernelspec": {
   "display_name": "CMEPred",
   "language": "python",
   "name": "cmepred"
  },
  "language_info": {
   "codemirror_mode": {
    "name": "ipython",
    "version": 3
   },
   "file_extension": ".py",
   "mimetype": "text/x-python",
   "name": "python",
   "nbconvert_exporter": "python",
   "pygments_lexer": "ipython3",
   "version": "3.11.3"
  }
 },
 "nbformat": 4,
 "nbformat_minor": 5
}
